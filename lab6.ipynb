{
 "cells": [
  {
   "cell_type": "markdown",
   "id": "58d54f5b44ffd7dc",
   "metadata": {},
   "source": [
    "# Part 1: Numbers"
   ]
  },
  {
   "cell_type": "code",
   "execution_count": 74,
   "id": "33c63c3fa23b3fb8",
   "metadata": {},
   "outputs": [],
   "source": [
    "import numpy as np\n",
    "import pandas as pd\n",
    "import matplotlib.pyplot as plt\n",
    "from sklearn.model_selection import train_test_split\n",
    "from sklearn import datasets\n",
    "from sklearn.tree import DecisionTreeClassifier\n",
    "from sklearn.feature_selection import VarianceThreshold, SelectKBest, chi2\n",
    "from sklearn.decomposition import PCA\n",
    "from sklearn.metrics import accuracy_score\n"
   ]
  },
  {
   "cell_type": "code",
   "execution_count": 75,
   "id": "acf5951d",
   "metadata": {},
   "outputs": [],
   "source": [
    "# Load the digits dataset\n",
    "digits = datasets.load_digits()\n",
    "X = digits['data']\n",
    "Y = digits['target']\n"
   ]
  },
  {
   "cell_type": "code",
   "execution_count": 76,
   "id": "4a2002d7",
   "metadata": {},
   "outputs": [],
   "source": [
    "# Train-test split\n",
    "X_train, X_test, y_train, y_test = train_test_split(X, Y, test_size=0.3, random_state=42)"
   ]
  },
  {
   "cell_type": "code",
   "execution_count": 77,
   "id": "2acae5f5",
   "metadata": {},
   "outputs": [
    {
     "name": "stdout",
     "output_type": "stream",
     "text": [
      "Accuracy with all 64 features - Train: 1.0\n",
      "Accuracy with all 64 features - Test: 0.8425925925925926\n"
     ]
    }
   ],
   "source": [
    "# 1. Model with 64 features\n",
    "dt_full = DecisionTreeClassifier(random_state=42)\n",
    "dt_full.fit(X_train, y_train)\n",
    "y_pred_full_train = dt_full.predict(X_train)\n",
    "y_pred_full_test = dt_full.predict(X_test)\n",
    "acc_full_train = accuracy_score(y_train, y_pred_full_train)\n",
    "acc_full_test = accuracy_score(y_test, y_pred_full_test)\n",
    "print(\"Accuracy with all 64 features - Train:\", acc_full_train)\n",
    "print(\"Accuracy with all 64 features - Test:\", acc_full_test)"
   ]
  },
  {
   "cell_type": "code",
   "execution_count": 78,
   "id": "56247f3d",
   "metadata": {},
   "outputs": [
    {
     "name": "stdout",
     "output_type": "stream",
     "text": [
      "Accuracy with 25 selected features (Chi-Square) - Train: 1.0\n",
      "Accuracy with 25 selected features (Chi-Square) - Test: 0.8629629629629629\n"
     ]
    }
   ],
   "source": [
    "# 2. Feature Selection using Chi-Square Test (Top 25 features)\n",
    "kbest = SelectKBest(chi2, k=25)\n",
    "X_train_kbest = kbest.fit_transform(X_train, y_train)\n",
    "X_test_kbest = kbest.transform(X_test)\n",
    "\n",
    "dt_kbest = DecisionTreeClassifier(random_state=42)\n",
    "dt_kbest.fit(X_train_kbest, y_train)\n",
    "y_pred_kbest_train = dt_kbest.predict(X_train_kbest)\n",
    "y_pred_kbest_test = dt_kbest.predict(X_test_kbest)\n",
    "acc_kbest_train = accuracy_score(y_train, y_pred_kbest_train)\n",
    "acc_kbest_test = accuracy_score(y_test, y_pred_kbest_test)\n",
    "print(\"Accuracy with 25 selected features (Chi-Square) - Train:\", acc_kbest_train)\n",
    "print(\"Accuracy with 25 selected features (Chi-Square) - Test:\", acc_kbest_test)"
   ]
  },
  {
   "cell_type": "code",
   "execution_count": 79,
   "id": "98f65179",
   "metadata": {},
   "outputs": [
    {
     "name": "stdout",
     "output_type": "stream",
     "text": [
      "Accuracy with 25 PCA components - Train: 1.0\n",
      "Accuracy with 25 PCA components - Test: 0.8407407407407408\n"
     ]
    }
   ],
   "source": [
    "# 3. Feature Reduction using PCA (Top 25 components)\n",
    "pca = PCA(n_components=25)\n",
    "X_train_pca = pca.fit_transform(X_train)\n",
    "X_test_pca = pca.transform(X_test)\n",
    "\n",
    "dt_pca = DecisionTreeClassifier(random_state=42)\n",
    "dt_pca.fit(X_train_pca, y_train)\n",
    "y_pred_pca_train = dt_pca.predict(X_train_pca)\n",
    "y_pred_pca_test = dt_pca.predict(X_test_pca)\n",
    "acc_pca_train = accuracy_score(y_train, y_pred_pca_train)\n",
    "acc_pca_test = accuracy_score(y_test, y_pred_pca_test)\n",
    "print(\"Accuracy with 25 PCA components - Train:\", acc_pca_train)\n",
    "print(\"Accuracy with 25 PCA components - Test:\", acc_pca_test)\n"
   ]
  },
  {
   "cell_type": "code",
   "execution_count": 80,
   "id": "31045dad",
   "metadata": {},
   "outputs": [
    {
     "name": "stdout",
     "output_type": "stream",
     "text": [
      "\n",
      "Model Comparisons:\n",
      "Full feature model accuracy - Train: 1.0000, Test: 0.8426\n",
      "Chi-Square selected feature model accuracy - Train: 1.0000, Test: 0.8630\n",
      "PCA reduced feature model accuracy - Train: 1.0000, Test: 0.8407\n"
     ]
    }
   ],
   "source": [
    "# Compare models\n",
    "print(\"\\nModel Comparisons:\")\n",
    "print(f\"Full feature model accuracy - Train: {acc_full_train:.4f}, Test: {acc_full_test:.4f}\")\n",
    "print(f\"Chi-Square selected feature model accuracy - Train: {acc_kbest_train:.4f}, Test: {acc_kbest_test:.4f}\")\n",
    "print(f\"PCA reduced feature model accuracy - Train: {acc_pca_train:.4f}, Test: {acc_pca_test:.4f}\")"
   ]
  },
  {
   "cell_type": "markdown",
   "id": "be562acb",
   "metadata": {},
   "source": [
    "## Which Model is More Likely to Overfit or Underfit?\n",
    "- **Full feature model (64 features):** This model is more likely to overfit because it has a high number of features, capturing noise along with patterns. The high training accuracy compared to test accuracy suggests potential overfitting.\n",
    "- **Chi-Square selection (25 features):** This model performs the best, suggesting it keeps the most relevant features while reducing noise. A smaller gap between training and test accuracy indicates better generalization.\n",
    "- **PCA (25 components):** PCA focuses on variance and may lose some useful features, leading to slight underfitting.\n",
    "\n",
    "## Model Comparison\n",
    "| Model | Features | Train Accuracy | Test Accuracy |\n",
    "|--------|----------|----------------|--------------|\n",
    "| Full Model | 64 | 1.00 | 0.8426 |\n",
    "| Chi-Square | 25 | 1.00| 0.8630 |\n",
    "| PCA | 25 | 1.00 | 0.8407 |\n",
    "\n",
    "- The **full model** is likely overfitting, as the train accuracy is significantly higher than the test accuracy.\n",
    "- The **Chi-Square model is the best performer**, achieving the highest test accuracy with minimal overfitting.\n",
    "- The **PCA model may underfit** due to loss of useful information, as indicated by lower training accuracy."
   ]
  },
  {
   "cell_type": "markdown",
   "id": "a95a2388",
   "metadata": {},
   "source": []
  }
 ],
 "metadata": {
  "kernelspec": {
   "display_name": "venv",
   "language": "python",
   "name": "python3"
  },
  "language_info": {
   "codemirror_mode": {
    "name": "ipython",
    "version": 3
   },
   "file_extension": ".py",
   "mimetype": "text/x-python",
   "name": "python",
   "nbconvert_exporter": "python",
   "pygments_lexer": "ipython3",
   "version": "3.12.7"
  }
 },
 "nbformat": 4,
 "nbformat_minor": 5
}
